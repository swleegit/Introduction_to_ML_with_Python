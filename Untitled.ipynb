{
 "cells": [
  {
   "cell_type": "markdown",
   "id": "5d098d69",
   "metadata": {},
   "source": [
    "# SciPy\n",
    "- [SciPy](https://scipy.org/)\n",
    "- 과학 계산용 함수를 모아놓은 파이썬 패키지\n",
    "- 고성능 선형 대수, 함수 최적화, 신호 처리, 특수한 수학 함수와 통계 분포\n",
    "- scikit-learn은 알고리즘을 구현할 때 SciPy의 여러 함수를 사용한다.\n",
    "- 그 중 가장 중요한 기능은 scipy.sparse\n",
    "    - 해당 모듈은 scikit-learn에서 데이터를 표현하는 또 하나의 방법인 희소 행렬 기능을 제공\n",
    "    - 희소 행렬은 0을 많이 포함한 2차원 배열을 저장할 때 사용한다."
   ]
  },
  {
   "cell_type": "code",
   "execution_count": 8,
   "id": "c325b2c5",
   "metadata": {},
   "outputs": [
    {
     "name": "stdout",
     "output_type": "stream",
     "text": [
      "Numpy 배열:\n",
      " [[2. 0. 0. 0.]\n",
      " [0. 2. 0. 0.]\n",
      " [0. 0. 2. 0.]\n",
      " [0. 0. 0. 2.]]\n"
     ]
    }
   ],
   "source": [
    "import numpy as np\n",
    "from scipy import sparse\n",
    "\n",
    "eye = np.eye(4)*2 #4x4 단위 행렬 \n",
    "print(\"Numpy 배열:\\n\", eye)"
   ]
  },
  {
   "cell_type": "code",
   "execution_count": 9,
   "id": "84284bd3",
   "metadata": {},
   "outputs": [
    {
     "name": "stdout",
     "output_type": "stream",
     "text": [
      "\n",
      "SciPy의 CSR 행렬:\n",
      "   (0, 0)\t2.0\n",
      "  (1, 1)\t2.0\n",
      "  (2, 2)\t2.0\n",
      "  (3, 3)\t2.0\n"
     ]
    }
   ],
   "source": [
    "#numpy 배열을 CSR 포맷의 SciPy 희박 행렬로 변환합니다.\n",
    "#0이 아닌 원소만 저장됩니다. 0이 많은 행렬에서 0이 아닌 원소만 저장 : 효율적임.\n",
    "\n",
    "#scipy.sparse.csr_matrix(ndarray) :: ndarry를 csr포맷으로 저장한다. 0이 많은 다차원 배열을 효율적으로 관리\n",
    "sparse_matrix = sparse.csr_matrix(eye)\n",
    "print(\"\\nSciPy의 CSR 행렬:\\n\",sparse_matrix)\n",
    "\n",
    "#0이 아닌 원소의 위치 (행,열) 과 그 곳에서의 값"
   ]
  },
  {
   "cell_type": "code",
   "execution_count": 42,
   "id": "55c9b837",
   "metadata": {},
   "outputs": [
    {
     "name": "stdout",
     "output_type": "stream",
     "text": [
      "COO 표현: \n",
      "   (0, 1)\t1.0\n",
      "  (1, 2)\t1.0\n",
      "  (2, 0)\t1.0\n",
      "  (3, 3)\t1.0\n"
     ]
    }
   ],
   "source": [
    "#COO포맷을 이용해서 앞서와 동일한 희소 행렬을 만드는 예제\n",
    "\n",
    "data = np.ones(4) #모든 원소가 1로 채워진 다차원 배열, np.ones(shape) :: ex) np.shape((4,5))\n",
    "\n",
    "#행, 열의 인덱스를 다차원배열[np.arange()]를 이용해서 지정\n",
    "row_indices = np.array([0,1,2,3]) \n",
    "col_indices = np.array([1,2,0,3]) \n",
    "\n",
    "#해당 data의 원소를 차례대로 0행1열, 1행2열, 2행0열, 3행3열에 배치한 행렬을 만들라.\n",
    "eye_coo = sparse.coo_matrix((data, (row_indices, col_indices)))\n",
    "print(\"COO 표현: \\n\", eye_coo)\n",
    "\n",
    "\n"
   ]
  },
  {
   "cell_type": "code",
   "execution_count": 20,
   "id": "5a160105",
   "metadata": {},
   "outputs": [],
   "source": []
  }
 ],
 "metadata": {
  "kernelspec": {
   "display_name": "Python 3 (ipykernel)",
   "language": "python",
   "name": "python3"
  },
  "language_info": {
   "codemirror_mode": {
    "name": "ipython",
    "version": 3
   },
   "file_extension": ".py",
   "mimetype": "text/x-python",
   "name": "python",
   "nbconvert_exporter": "python",
   "pygments_lexer": "ipython3",
   "version": "3.9.12"
  }
 },
 "nbformat": 4,
 "nbformat_minor": 5
}
