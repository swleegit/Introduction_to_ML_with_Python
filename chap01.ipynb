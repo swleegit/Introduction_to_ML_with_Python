{
 "cells": [
  {
   "cell_type": "markdown",
   "id": "836e9a27",
   "metadata": {},
   "source": [
    "# 지도학습, 비지도 학습\n",
    "- 하드 코딩(if, else) : 모델링할 처리 과정을 사람이 잘 알고 있는 경우\n",
    "    - 결정에 필요한 로직은 한 분야나 작업에 국한된다. 작업이 조금만 변경되더라도 시스템 전체를 다시 개발\n",
    "    \n",
    "- 지도학습 : in/out 데이터를 알고리즘에 학습시키고, 새로운 input데이터를 넣었을 때 output 데이터를 추측\n",
    "- 의사 결정 프로세스를 자동화한다. 핵심은 학습시킬 데이터 셋을 만드는 것!\n",
    "- 의료영상이미지에 기반한 종양판단 : 학습데이터셋을 만들때 양성인지 종양인지 판단할 도메인 지식이 필요\n",
    "- 분석, 성능측정에 용이하다.\n",
    "\n",
    "- 비지도 학습 : - 학습 데이터에 input데이터만 존재, output데이터가 없음, 평가하거나 이해하는 것이 어려움\n",
    "\n",
    "- 지도학습, 비지도학습에 필요한 데이터를 컴퓨터가 인식할 수 있는 데이터셋(행과열)로 준비해야함.\n",
    "- 행 = 샘플 = 데이터 포인트\n",
    "- 열 = 특성 \n",
    "- 좋은 학습 데이터가 있어야한다. ex)성씨로 여성남성 구별 (bad), 이름으로 여성남성 구별 (가능)\n"
   ]
  },
  {
   "cell_type": "markdown",
   "id": "019d551d",
   "metadata": {},
   "source": [
    "# 머신러닝 알고리즘 개발 프로세스 (중요!)\n",
    "- 어떤 질문에 대한 답을 원하는가? 가지고 있는 데이터가 원하는 답을 줄 수 있는가?\n",
    "- 내 질문을 머신러닝의 문제로 가장 잘 기술하는 방법은 무엇인가? (어떤 모델을 선택할 것인가?)\n",
    "- 문제를 풀기에 충분한 데이터를 모았는가?\n",
    "- 내가 추출한 데이터의 특성은 무엇이며 좋은 예측을 만들어낼 수 있을 것인가?\n",
    "- 머신러닝 애플리케이션의 성과를 어떻게 측정할 수 있는가?\n",
    "- 머신러닝 솔루션이 다른 연구나 제품과 어떻게 협력할 수 있는가?\n",
    "\n",
    "- **넓은시각으로 보면, 머신러닝 알고리즙이나 방법론은 특정 문제를 푸는 전체 과정의 일부일 뿐이다. 항상 머리속에 전체시스템에 대한 큰 그림을 담고 있어야 한다.**\n",
    "\n",
    "- 파이썬은 사용자 인터페이스 GUI 가능함.-> 졸업작품과 연계가능성?"
   ]
  },
  {
   "cell_type": "markdown",
   "id": "93a0e23a",
   "metadata": {},
   "source": [
    "# 링크\n",
    "- [scikit머신러닝 알고리즘 설명](http://scikit-learn.org/stable/documentation)\n",
    "- [scikit디테일 가이드](http://scikit-learn.org/stable/user_guide.html)\n",
    "- [scikit디테일 가이드 API문서](http://scikit-learn.org/stable/modules/classes.html)\n",
    "- 이 책은 알고리즘의 딥한 원리에 대해 설명한 것이 아니라 scikit라이브러리의 대표 모델 사용법 설명서\n",
    "\n",
    "- [책의 모든 예제코드](https://github.com/rickiepark/intro_ml_with_python_2nd_revised)\n",
    "- 구글 코랩(colab) : 무료 주피터 노트북 환경 : 파이썬 설치 필요 없음.\n",
    "- [(코랩)책의 모든 예제코드](https://bit.ly/python-ml-colab)"
   ]
  },
  {
   "cell_type": "markdown",
   "id": "cb4a62c7",
   "metadata": {},
   "source": [
    "# Numpy\n",
    "- scikit-learn은 numpy배열 형태의 데이터를 입력으로 받는다! (모든 데이터를 numpy로 변환과정 필요)\n",
    "- 배열 = numpy배열 = ndarray  :: 모든 원소가 동일한 데이터 타입이어야 한다.\n"
   ]
  },
  {
   "cell_type": "code",
   "execution_count": 1,
   "id": "b0a80376",
   "metadata": {},
   "outputs": [
    {
     "name": "stdout",
     "output_type": "stream",
     "text": [
      "x:\n",
      " [[1 2 3]\n",
      " [4 5 6]]\n"
     ]
    }
   ],
   "source": [
    "import numpy as np\n",
    "x = np.array([[1,2,3],[4,5,6]]) #리스트 행렬 형식 \n",
    "print(\"x:\\n\", x)"
   ]
  },
  {
   "cell_type": "markdown",
   "id": "5d098d69",
   "metadata": {},
   "source": [
    "# SciPy\n",
    "- [SciPy](https://scipy.org/)\n",
    "- 과학 계산용 함수를 모아놓은 파이썬 패키지\n",
    "- 고성능 선형 대수, 함수 최적화, 신호 처리, 특수한 수학 함수와 통계 분포\n",
    "- scikit-learn은 알고리즘을 구현할 때 SciPy의 여러 함수를 사용한다.\n",
    "- 그 중 가장 중요한 기능은 scipy.sparse\n",
    "    - 해당 모듈은 scikit-learn에서 데이터를 표현하는 또 하나의 방법인 희소 행렬 기능을 제공\n",
    "    - 희소 행렬은 0을 많이 포함한 2차원 배열을 저장할 때 사용한다."
   ]
  },
  {
   "cell_type": "code",
   "execution_count": 8,
   "id": "c325b2c5",
   "metadata": {},
   "outputs": [
    {
     "name": "stdout",
     "output_type": "stream",
     "text": [
      "Numpy 배열:\n",
      " [[2. 0. 0. 0.]\n",
      " [0. 2. 0. 0.]\n",
      " [0. 0. 2. 0.]\n",
      " [0. 0. 0. 2.]]\n"
     ]
    }
   ],
   "source": [
    "import numpy as np\n",
    "from scipy import sparse\n",
    "\n",
    "eye = np.eye(4)*2 #4x4 단위 행렬 \n",
    "print(\"Numpy 배열:\\n\", eye)"
   ]
  },
  {
   "cell_type": "code",
   "execution_count": 9,
   "id": "84284bd3",
   "metadata": {},
   "outputs": [
    {
     "name": "stdout",
     "output_type": "stream",
     "text": [
      "\n",
      "SciPy의 CSR 행렬:\n",
      "   (0, 0)\t2.0\n",
      "  (1, 1)\t2.0\n",
      "  (2, 2)\t2.0\n",
      "  (3, 3)\t2.0\n"
     ]
    }
   ],
   "source": [
    "#numpy 배열을 CSR 포맷의 SciPy 희박 행렬로 변환합니다.\n",
    "#0이 아닌 원소만 저장됩니다. 0이 많은 행렬에서 0이 아닌 원소만 저장 : 효율적임.\n",
    "\n",
    "#scipy.sparse.csr_matrix(ndarray) :: ndarry를 csr포맷으로 저장한다. 0이 많은 다차원 배열을 효율적으로 관리\n",
    "sparse_matrix = sparse.csr_matrix(eye)\n",
    "print(\"\\nSciPy의 CSR 행렬:\\n\",sparse_matrix)\n",
    "\n",
    "#0이 아닌 원소의 위치 (행,열) 과 그 곳에서의 값"
   ]
  },
  {
   "cell_type": "code",
   "execution_count": 42,
   "id": "55c9b837",
   "metadata": {},
   "outputs": [
    {
     "name": "stdout",
     "output_type": "stream",
     "text": [
      "COO 표현: \n",
      "   (0, 1)\t1.0\n",
      "  (1, 2)\t1.0\n",
      "  (2, 0)\t1.0\n",
      "  (3, 3)\t1.0\n"
     ]
    }
   ],
   "source": [
    "#COO포맷을 이용해서 앞서와 동일한 희소 행렬을 만드는 예제\n",
    "\n",
    "data = np.ones(4) #모든 원소가 1로 채워진 다차원 배열, np.ones(shape) :: ex) np.shape((4,5))\n",
    "\n",
    "#행, 열의 인덱스를 다차원배열[np.arange()]를 이용해서 지정\n",
    "row_indices = np.array([0,1,2,3]) \n",
    "col_indices = np.array([1,2,0,3]) \n",
    "\n",
    "#해당 data의 원소를 차례대로 0행1열, 1행2열, 2행0열, 3행3열에 배치한 행렬을 만들라.\n",
    "eye_coo = sparse.coo_matrix((data, (row_indices, col_indices)))\n",
    "print(\"COO 표현: \\n\", eye_coo)\n",
    "\n",
    "\n"
   ]
  },
  {
   "cell_type": "code",
   "execution_count": 20,
   "id": "5a160105",
   "metadata": {},
   "outputs": [],
   "source": []
  }
 ],
 "metadata": {
  "kernelspec": {
   "display_name": "Python 3 (ipykernel)",
   "language": "python",
   "name": "python3"
  },
  "language_info": {
   "codemirror_mode": {
    "name": "ipython",
    "version": 3
   },
   "file_extension": ".py",
   "mimetype": "text/x-python",
   "name": "python",
   "nbconvert_exporter": "python",
   "pygments_lexer": "ipython3",
   "version": "3.9.12"
  }
 },
 "nbformat": 4,
 "nbformat_minor": 5
}
